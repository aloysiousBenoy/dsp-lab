{
 "cells": [
  {
   "attachments": {
    "Screenshot_20220417_170254.png": {
     "image/png": "[encoded data removed]"
    }
   },
   "cell_type": "markdown",
   "id": "08427481",
   "metadata": {},
   "source": [
    "***\n",
    "9. \n",
    "Write a python function to compute discrete Fourier transform (DFT) of an N-point signal. Verify\n",
    "Parseval’s theorem\n",
    "\n",
    "![Screenshot_20220417_170254.png](attachment:Screenshot_20220417_170254.png)\n",
    "\n",
    "with the help of a python program for the signal **x[n] = {1, 1 + j, −1, 1 − j}.**"
   ]
  },
  {
   "cell_type": "code",
   "execution_count": 4,
   "id": "de120e70",
   "metadata": {},
   "outputs": [
    {
     "name": "stdout",
     "output_type": "stream",
     "text": [
      "6.0 24.0\n"
     ]
    }
   ],
   "source": [
    "import numpy as np\n",
    "\n",
    "\n",
    "def dft(x):\n",
    "    N = len(x)\n",
    "    w = np.exp(-1j*2*np.pi/N)\n",
    "    D = np.zeros((N,N),dtype=np.csingle)\n",
    "    for i in np.arange(N):\n",
    "        for j in np.arange(N):\n",
    "            D[i,j] = w**(i*j)\n",
    "    return np.round(D@(x.T))\n",
    "\n",
    "x = np.array([1,1+1j,-1,1-1j])\n",
    "X = dft(x)\n",
    "\n",
    "lhs = 0\n",
    "rhs = 0\n",
    "\n",
    "for n in np.arange(len(x)):\n",
    "    lhs += np.abs(x[n])**2\n",
    "    rhs += np.abs(X[n])**2\n",
    "    print(lhs,rhs)"
   ]
  }
 ],
 "metadata": {
  "kernelspec": {
   "display_name": "Python 3 (ipykernel)",
   "language": "python",
   "name": "python3"
  },
  "language_info": {
   "codemirror_mode": {
    "name": "ipython",
    "version": 3
   },
   "file_extension": ".py",
   "mimetype": "text/x-python",
   "name": "python",
   "nbconvert_exporter": "python",
   "pygments_lexer": "ipython3",
   "version": "3.9.7"
  }
 },
 "nbformat": 4,
 "nbformat_minor": 5
}
