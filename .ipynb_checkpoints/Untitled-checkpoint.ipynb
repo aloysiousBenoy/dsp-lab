{
 "cells": [
  {
   "cell_type": "code",
   "execution_count": 26,
   "id": "f5ea11b5",
   "metadata": {},
   "outputs": [
    {
     "name": "stdout",
     "output_type": "stream",
     "text": [
      "[-5, -4, -3, -2, -1, 0, 1, 2, 3, 4, 5]\n",
      "(array([], dtype=int64),)\n"
     ]
    },
    {
     "data": {
      "image/png": "[encoded data removed]",
      "text/plain": [
       "<Figure size 432x288 with 1 Axes>"
      ]
     },
     "metadata": {
      "needs_background": "light"
     },
     "output_type": "display_data"
    }
   ],
   "source": [
    "import numpy as np\n",
    "import matplotlib.pyplot as plt\n",
    "\n",
    "t =[-5,-4,-3,-2,-1,0,1,2,3,4,5]\n",
    "\n",
    "# \n",
    "# y = u(t)\n",
    "# [0,0,0,0,0,1,0,0,0,0,0]\n",
    "def impulse(time ,n0=0):\n",
    "    m = np.zeros_like(time)\n",
    "    ind = np.where(time==n0)\n",
    "    m[ind]=1\n",
    "    return m\n",
    "\n",
    "plt.stem(t,impulse(t))\n",
    "plt.show()\n"
   ]
  }
 ],
 "metadata": {
  "kernelspec": {
   "display_name": "Python 3 (ipykernel)",
   "language": "python",
   "name": "python3"
  },
  "language_info": {
   "codemirror_mode": {
    "name": "ipython",
    "version": 3
   },
   "file_extension": ".py",
   "mimetype": "text/x-python",
   "name": "python",
   "nbconvert_exporter": "python",
   "pygments_lexer": "ipython3",
   "version": "3.9.7"
  }
 },
 "nbformat": 4,
 "nbformat_minor": 5
}
