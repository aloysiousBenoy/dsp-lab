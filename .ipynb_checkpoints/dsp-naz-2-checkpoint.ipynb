{
 "cells": [
  {
   "cell_type": "code",
   "execution_count": 1,
   "metadata": {
    "colab": {
     "base_uri": "https://localhost:8080/"
    },
    "executionInfo": {
     "elapsed": 11,
     "status": "ok",
     "timestamp": 1645873498144,
     "user": {
      "displayName": "Nazrin Ansari",
      "photoUrl": "https://lh3.googleusercontent.com/a-/AOh14GgdCbln4qQ8E1nJErr7jgWAw8PtEvFFq4d_QZ0AEg=s64",
      "userId": "03916050333159620578"
     },
     "user_tz": -330
    },
    "id": "bzLvXAhwsqeq",
    "outputId": "e149d37f-6f22-46fa-b770-4b938cebea7f"
   },
   "outputs": [
    {
     "name": "stdout",
     "output_type": "stream",
     "text": [
      "x(n)= [2 1 1 3]\n",
      "Energy of x(n)= 15\n"
     ]
    }
   ],
   "source": [
    "#2A. Energy of Signal\n",
    "import numpy as np\n",
    "import matplotlib.pyplot as plt\n",
    "\n",
    "x=np.random.randint(1,4,4)\n",
    "e=np.dot(x,x)\n",
    "\n",
    "print(\"x(n)=\",x)\n",
    "print(\"Energy of x(n)=\",e)"
   ]
  },
  {
   "cell_type": "code",
   "execution_count": 2,
   "metadata": {
    "colab": {
     "base_uri": "https://localhost:8080/",
     "height": 927
    },
    "executionInfo": {
     "elapsed": 1438,
     "status": "ok",
     "timestamp": 1645873520991,
     "user": {
      "displayName": "Nazrin Ansari",
      "photoUrl": "https://lh3.googleusercontent.com/a-/AOh14GgdCbln4qQ8E1nJErr7jgWAw8PtEvFFq4d_QZ0AEg=s64",
      "userId": "03916050333159620578"
     },
     "user_tz": -330
    },
    "id": "CwtNoXiBtHym",
    "outputId": "8cac5dcd-76fb-4830-8261-4ea4e2c2f131"
   },
   "outputs": [
    {
     "name": "stdout",
     "output_type": "stream",
     "text": [
      "x(n)= [1 2 3 4 5]\n",
      "h(n)= [1 1 1]\n",
      "x(n)*h(n)= [ 1.  3.  6.  9. 12.  9.  5.]\n"
     ]
    },
    {
     "data": {
      "image/png": "[encoded data removed]",
      "text/plain": [
       "<Figure size 432x288 with 1 Axes>"
      ]
     },
     "metadata": {
      "needs_background": "light"
     },
     "output_type": "display_data"
    },
    {
     "data": {
      "image/png": "[encoded data removed]",
      "text/plain": [
       "<Figure size 432x288 with 1 Axes>"
      ]
     },
     "metadata": {
      "needs_background": "light"
     },
     "output_type": "display_data"
    },
    {
     "data": {
      "image/png": "[encoded data removed]",
      "text/plain": [
       "<Figure size 432x288 with 1 Axes>"
      ]
     },
     "metadata": {
      "needs_background": "light"
     },
     "output_type": "display_data"
    }
   ],
   "source": [
    "#2B.Linear Convolution\n",
    "\n",
    "import numpy as np\n",
    "import matplotlib.pyplot as plt\n",
    "\n",
    "def dirconv(x,h):\n",
    "    k=len(x)-1\n",
    "    m=len(h)-1\n",
    "    if (k<m):\n",
    "        print(\"Please pass longer sequence as first argument\")\n",
    "        # 12345 * 876\n",
    "#          1 2 3 4 5 \n",
    "#      1 2 3 \n",
    "\n",
    "    y=np.zeros(k+m+1) #[0,0,0,0....]\n",
    "    for i in np.arange(k+m+1):\n",
    "        if (i < m+1):\n",
    "            y[i]=np.dot(x[0:i+1],h[i::-1])\n",
    "        elif (i < k+1):\n",
    "            y[i]=np.dot(x[i-m:i+1],h[::-1])\n",
    "        else:\n",
    "            y[i]=np.dot(x[i-m:],h[m:i-k-1:-1])\n",
    "    \n",
    "    return y\n",
    "    \n",
    "x=np.array([1,2,3,4,5])\n",
    "h=np.array([1,1,1])\n",
    "y=dirconv(x,h)\n",
    "\n",
    "nx=np.arange(0,len(x))\n",
    "nh=np.arange(0,len(h))\n",
    "ny=np.arange(0,len(y))\n",
    "\n",
    "print(\"x(n)=\",x)\n",
    "print(\"h(n)=\",h)\n",
    "print(\"x(n)*h(n)=\",y)\n",
    "      \n",
    "plt.xlabel(\"n\")\n",
    "plt.ylabel(\"x(n)\")    \n",
    "plt.stem(nx,x,use_line_collection=True)\n",
    "plt.show()\n",
    "\n",
    "plt.xlabel(\"n\")\n",
    "plt.ylabel(\"h(n)\")    \n",
    "plt.stem(nh,h,use_line_collection=True)\n",
    "plt.show()\n",
    "\n",
    "plt.xlabel(\"n\")\n",
    "plt.ylabel(\"x(n)*h(n)\")    \n",
    "plt.stem(ny,y,use_line_collection=True)\n",
    "plt.show()"
   ]
  },
  {
   "cell_type": "code",
   "execution_count": 10,
   "metadata": {
    "colab": {
     "base_uri": "https://localhost:8080/",
     "height": 927
    },
    "executionInfo": {
     "elapsed": 782,
     "status": "ok",
     "timestamp": 1645873544046,
     "user": {
      "displayName": "Nazrin Ansari",
      "photoUrl": "https://lh3.googleusercontent.com/a-/AOh14GgdCbln4qQ8E1nJErr7jgWAw8PtEvFFq4d_QZ0AEg=s64",
      "userId": "03916050333159620578"
     },
     "user_tz": -330
    },
    "id": "0UCU7XOKtH_t",
    "outputId": "4f8910f6-db91-49d3-f94f-e005caa704d0"
   },
   "outputs": [
    {
     "name": "stdout",
     "output_type": "stream",
     "text": [
      "#0#\n",
      "[1]\n",
      "[2 3]\n"
     ]
    },
    {
     "ename": "ValueError",
     "evalue": "shapes (1,) and (2,) not aligned: 1 (dim 0) != 2 (dim 0)",
     "output_type": "error",
     "traceback": [
      "\u001b[0;31m---------------------------------------------------------------------------\u001b[0m",
      "\u001b[0;31mValueError\u001b[0m                                Traceback (most recent call last)",
      "\u001b[0;32m/tmp/ipykernel_12147/134513080.py\u001b[0m in \u001b[0;36m<module>\u001b[0;34m\u001b[0m\n\u001b[1;32m     51\u001b[0m \u001b[0my\u001b[0m\u001b[0;34m=\u001b[0m\u001b[0mnp\u001b[0m\u001b[0;34m.\u001b[0m\u001b[0marray\u001b[0m\u001b[0;34m(\u001b[0m\u001b[0;34m[\u001b[0m\u001b[0;36m1\u001b[0m\u001b[0;34m,\u001b[0m\u001b[0;36m2\u001b[0m\u001b[0;34m,\u001b[0m\u001b[0;36m3\u001b[0m\u001b[0;34m,\u001b[0m\u001b[0;36m4\u001b[0m\u001b[0;34m,\u001b[0m\u001b[0;36m5\u001b[0m\u001b[0;34m]\u001b[0m\u001b[0;34m)\u001b[0m\u001b[0;34m\u001b[0m\u001b[0;34m\u001b[0m\u001b[0m\n\u001b[1;32m     52\u001b[0m \u001b[0mx\u001b[0m\u001b[0;34m=\u001b[0m\u001b[0mnp\u001b[0m\u001b[0;34m.\u001b[0m\u001b[0marray\u001b[0m\u001b[0;34m(\u001b[0m\u001b[0;34m[\u001b[0m\u001b[0;36m1\u001b[0m\u001b[0;34m,\u001b[0m\u001b[0;36m2\u001b[0m\u001b[0;34m,\u001b[0m\u001b[0;36m3\u001b[0m\u001b[0;34m]\u001b[0m\u001b[0;34m)\u001b[0m\u001b[0;34m\u001b[0m\u001b[0;34m\u001b[0m\u001b[0m\n\u001b[0;32m---> 53\u001b[0;31m \u001b[0mw\u001b[0m\u001b[0;34m=\u001b[0m\u001b[0mp_corr\u001b[0m\u001b[0;34m(\u001b[0m\u001b[0my\u001b[0m\u001b[0;34m,\u001b[0m\u001b[0mx\u001b[0m\u001b[0;34m)\u001b[0m\u001b[0;34m\u001b[0m\u001b[0;34m\u001b[0m\u001b[0m\n\u001b[0m\u001b[1;32m     54\u001b[0m \u001b[0;34m\u001b[0m\u001b[0m\n\u001b[1;32m     55\u001b[0m \u001b[0mny\u001b[0m\u001b[0;34m=\u001b[0m\u001b[0mnp\u001b[0m\u001b[0;34m.\u001b[0m\u001b[0marange\u001b[0m\u001b[0;34m(\u001b[0m\u001b[0;36m0\u001b[0m\u001b[0;34m,\u001b[0m\u001b[0mlen\u001b[0m\u001b[0;34m(\u001b[0m\u001b[0my\u001b[0m\u001b[0;34m)\u001b[0m\u001b[0;34m)\u001b[0m\u001b[0;34m\u001b[0m\u001b[0;34m\u001b[0m\u001b[0m\n",
      "\u001b[0;32m/tmp/ipykernel_12147/134513080.py\u001b[0m in \u001b[0;36mp_corr\u001b[0;34m(y, x)\u001b[0m\n\u001b[1;32m     39\u001b[0m         \u001b[0;32mif\u001b[0m \u001b[0mi\u001b[0m\u001b[0;34m<\u001b[0m\u001b[0mm\u001b[0m\u001b[0;34m+\u001b[0m\u001b[0;36m1\u001b[0m\u001b[0;34m:\u001b[0m\u001b[0;34m\u001b[0m\u001b[0;34m\u001b[0m\u001b[0m\n\u001b[1;32m     40\u001b[0m             \u001b[0mprint\u001b[0m\u001b[0;34m(\u001b[0m\u001b[0my\u001b[0m\u001b[0;34m[\u001b[0m\u001b[0;34m:\u001b[0m\u001b[0mi\u001b[0m\u001b[0;34m+\u001b[0m\u001b[0;36m1\u001b[0m\u001b[0;34m]\u001b[0m\u001b[0;34m,\u001b[0m\u001b[0mx\u001b[0m\u001b[0;34m[\u001b[0m\u001b[0mm\u001b[0m\u001b[0;34m-\u001b[0m\u001b[0mi\u001b[0m\u001b[0;34m-\u001b[0m\u001b[0;36m1\u001b[0m\u001b[0;34m:\u001b[0m\u001b[0;34m]\u001b[0m\u001b[0;34m,\u001b[0m\u001b[0msep\u001b[0m\u001b[0;34m=\u001b[0m\u001b[0;34m\"\\n\"\u001b[0m\u001b[0;34m)\u001b[0m\u001b[0;34m\u001b[0m\u001b[0;34m\u001b[0m\u001b[0m\n\u001b[0;32m---> 41\u001b[0;31m             \u001b[0mw\u001b[0m\u001b[0;34m[\u001b[0m\u001b[0mi\u001b[0m\u001b[0;34m]\u001b[0m\u001b[0;34m=\u001b[0m\u001b[0mnp\u001b[0m\u001b[0;34m.\u001b[0m\u001b[0mdot\u001b[0m\u001b[0;34m(\u001b[0m\u001b[0my\u001b[0m\u001b[0;34m[\u001b[0m\u001b[0;34m:\u001b[0m\u001b[0mi\u001b[0m\u001b[0;34m+\u001b[0m\u001b[0;36m1\u001b[0m\u001b[0;34m]\u001b[0m\u001b[0;34m,\u001b[0m\u001b[0mx\u001b[0m\u001b[0;34m[\u001b[0m\u001b[0mm\u001b[0m\u001b[0;34m-\u001b[0m\u001b[0mi\u001b[0m\u001b[0;34m-\u001b[0m\u001b[0;36m1\u001b[0m\u001b[0;34m:\u001b[0m\u001b[0;34m]\u001b[0m\u001b[0;34m)\u001b[0m\u001b[0;34m\u001b[0m\u001b[0;34m\u001b[0m\u001b[0m\n\u001b[0m\u001b[1;32m     42\u001b[0m         \u001b[0;32melif\u001b[0m \u001b[0mi\u001b[0m\u001b[0;34m<\u001b[0m\u001b[0mk\u001b[0m\u001b[0;34m+\u001b[0m\u001b[0;36m1\u001b[0m\u001b[0;34m:\u001b[0m\u001b[0;34m\u001b[0m\u001b[0;34m\u001b[0m\u001b[0m\n\u001b[1;32m     43\u001b[0m             \u001b[0mprint\u001b[0m\u001b[0;34m(\u001b[0m\u001b[0my\u001b[0m\u001b[0;34m[\u001b[0m\u001b[0mi\u001b[0m\u001b[0;34m-\u001b[0m\u001b[0mm\u001b[0m\u001b[0;34m:\u001b[0m\u001b[0mi\u001b[0m\u001b[0;34m]\u001b[0m\u001b[0;34m,\u001b[0m\u001b[0mx\u001b[0m\u001b[0;34m[\u001b[0m\u001b[0;34m:\u001b[0m\u001b[0;34m]\u001b[0m\u001b[0;34m,\u001b[0m\u001b[0msep\u001b[0m\u001b[0;34m=\u001b[0m\u001b[0;34m\"\\n\"\u001b[0m\u001b[0;34m)\u001b[0m\u001b[0;34m\u001b[0m\u001b[0;34m\u001b[0m\u001b[0m\n",
      "\u001b[0;32m<__array_function__ internals>\u001b[0m in \u001b[0;36mdot\u001b[0;34m(*args, **kwargs)\u001b[0m\n",
      "\u001b[0;31mValueError\u001b[0m: shapes (1,) and (2,) not aligned: 1 (dim 0) != 2 (dim 0)"
     ]
    }
   ],
   "source": [
    "#2C.Linear Correlation\n",
    "\n",
    "import numpy as np\n",
    "import matplotlib.pyplot as plt\n",
    "\n",
    "def corr(y,x):\n",
    "    k=len(y)-1\n",
    "    m=len(x)-1\n",
    "    if (k<m):\n",
    "        print(\"Please pass longer sequence as first argument\")\n",
    "    w=np.zeros(k+m+1)\n",
    "#          1 2 3 4 5 \n",
    "#      1 2 3 \n",
    "    for i in np.arange(-k,m+1):\n",
    "        print(\"#{}#\".format(i))\n",
    "        if (i < -k+m):\n",
    "            print(y[-i:],x[0:i+k+1],sep=\"\\n\")\n",
    "            w[i]=np.dot(y[-i:],x[0:i+k+1])\n",
    "        elif (i < 1):\n",
    "            print(y[-i:-i+m+1],x[:],sep=\"\\n\")\n",
    "            w[i]=np.dot(y[-i:-i+m+1],x[:])\n",
    "        else:\n",
    "            print(y[0:-i+m+1],x[i:m+1],sep=\"\\n\")\n",
    "            w[i]=np.dot(y[0:-i+m+1],x[i:m+1])\n",
    "        print(\"\\n\\n\")\n",
    "    return w\n",
    "\n",
    "\n",
    "def p_corr(y,x):\n",
    "    k=len(y)-1\n",
    "    m=len(x)-1\n",
    "    if (k<m):\n",
    "        print(\"Please pass longer sequence as first argument\")\n",
    "    w=np.zeros(k+m+1)\n",
    "#          1 2 3 4 5 \n",
    "#            1 2 3 \n",
    "    for i in np.arange(k+m+1):\n",
    "        print(\"#{}#\".format(i))\n",
    "        if i<m+1:\n",
    "            print(y[:i+1],x[m-i-1:],sep=\"\\n\")\n",
    "            w[i]=np.dot(y[:i+1],x[m-i-1:])\n",
    "        elif i<k+1:\n",
    "            print(y[i-m:i],x[:],sep=\"\\n\")\n",
    "            w[i]=np.dot(y[i-m:i],x[:])\n",
    "        else:\n",
    "            print(y[0:-i+m+1],x[i:m+1],sep=\"\\n\")\n",
    "            w[i]=np.dot(y[i-m:],x[:i-k-1])\n",
    "        print(\"\\n\\n\")\n",
    "    return w[::-1]\n",
    "\n",
    "y=np.array([1,2,3,4,5])\n",
    "x=np.array([1,2,3])\n",
    "w=p_corr(y,x)\n",
    "\n",
    "ny=np.arange(0,len(y))\n",
    "nx=np.arange(0,len(x))\n",
    "nw=np.arange(0,len(w))\n",
    "\n",
    "print(\"y(n)=\",y)\n",
    "print(\"x(n)=\",x)\n",
    "print(\"Output w(n)=\",w)\n",
    "       \n",
    "plt.xlabel(\"n\")\n",
    "plt.ylabel(\"y(n)\")    \n",
    "plt.stem(ny,y,use_line_collection=True)\n",
    "plt.show()\n",
    "\n",
    "plt.xlabel(\"n\")\n",
    "plt.ylabel(\"x(n)\")    \n",
    "plt.stem(nx,x,use_line_collection=True)\n",
    "plt.show()\n",
    "\n",
    "plt.xlabel(\"n\")\n",
    "plt.ylabel(\"w(n)\")    \n",
    "plt.stem(nw,w,use_line_collection=True)\n",
    "plt.show()\n",
    "\n"
   ]
  },
  {
   "cell_type": "code",
   "execution_count": 4,
   "metadata": {
    "colab": {
     "base_uri": "https://localhost:8080/",
     "height": 766
    },
    "executionInfo": {
     "elapsed": 998,
     "status": "ok",
     "timestamp": 1645873574635,
     "user": {
      "displayName": "Nazrin Ansari",
      "photoUrl": "https://lh3.googleusercontent.com/a-/AOh14GgdCbln4qQ8E1nJErr7jgWAw8PtEvFFq4d_QZ0AEg=s64",
      "userId": "03916050333159620578"
     },
     "user_tz": -330
    },
    "id": "QN5yt4MStIJL",
    "outputId": "777b6660-7d2f-4723-bb4c-efaf2a0ef2f5"
   },
   "outputs": [
    {
     "name": "stdout",
     "output_type": "stream",
     "text": [
      "x(n)= [[1]\n",
      " [2]\n",
      " [3]\n",
      " [4]]\n",
      "X(k)= [[10.+0.j]\n",
      " [-2.+2.j]\n",
      " [-2.-0.j]\n",
      " [-2.-2.j]]\n"
     ]
    },
    {
     "data": {
      "image/png": "[encoded data removed]",
      "text/plain": [
       "<Figure size 432x288 with 1 Axes>"
      ]
     },
     "metadata": {
      "needs_background": "light"
     },
     "output_type": "display_data"
    },
    {
     "data": {
      "image/png": "[encoded data removed]",
      "text/plain": [
       "<Figure size 432x288 with 1 Axes>"
      ]
     },
     "metadata": {
      "needs_background": "light"
     },
     "output_type": "display_data"
    }
   ],
   "source": [
    "#4A. DFT\n",
    "\n",
    "import numpy as np\n",
    "import matplotlib.pyplot as plt\n",
    "\n",
    "N=4\n",
    "D=np.empty((N,N),dtype=np.cdouble)\n",
    "W=np.exp(-1j*2*np.pi/N) #Twiddle factor\n",
    "\n",
    "# 1 2 3 4    1 \n",
    "# 1 2 3 4    1\n",
    "# 1 2 3 4    1\n",
    "# 1 2 3 4    1\n",
    "for k in np.arange(N):\n",
    "    for n in np.arange(N):\n",
    "        D[k,n]=W**(k*n) #Twiddle factor matrix\n",
    "np.round(D)\n",
    "\n",
    "x=np.array([[1,2,3,4]]).T #Column vector\n",
    "X=D @ x  #Matrix product\n",
    "\n",
    "n=np.arange(0,N)\n",
    "mag=np.zeros(N)\n",
    "ph=np.zeros(N)\n",
    "\n",
    "for k in np.arange(N):\n",
    "    mag[k]=np.absolute(X[k])\n",
    "    ph[k]=np.angle(X[k])\n",
    "\n",
    "print(\"x(n)=\",x)\n",
    "print(\"X(k)=\",np.round(X))\n",
    "\n",
    "plt.title(\"Magnitude Spectrum\") \n",
    "plt.xlabel(\"k\")\n",
    "plt.ylabel(\"|X(k)|\")  \n",
    "plt.stem(n,mag,use_line_collection=True)\n",
    "plt.show()\n",
    "\n",
    "plt.title(\"Phase Spectrum\") \n",
    "plt.xlabel(\"k\")\n",
    "plt.ylabel(\"<X(k)\")    \n",
    "plt.stem(n,ph,use_line_collection=True)\n",
    "plt.show()"
   ]
  },
  {
   "cell_type": "code",
   "execution_count": 5,
   "metadata": {
    "colab": {
     "base_uri": "https://localhost:8080/"
    },
    "executionInfo": {
     "elapsed": 357,
     "status": "ok",
     "timestamp": 1645873596106,
     "user": {
      "displayName": "Nazrin Ansari",
      "photoUrl": "https://lh3.googleusercontent.com/a-/AOh14GgdCbln4qQ8E1nJErr7jgWAw8PtEvFFq4d_QZ0AEg=s64",
      "userId": "03916050333159620578"
     },
     "user_tz": -330
    },
    "id": "PIJgrjIPtISb",
    "outputId": "d93ddcd0-9acc-4797-e7dc-cadc89eaee6a"
   },
   "outputs": [
    {
     "name": "stdout",
     "output_type": "stream",
     "text": [
      "X(k)= [[10.+0.j]\n",
      " [-2.+2.j]\n",
      " [-2.+0.j]\n",
      " [-2.-2.j]]\n",
      "x(n)= [[1.+0.j]\n",
      " [2.+0.j]\n",
      " [3.-0.j]\n",
      " [4.-0.j]]\n"
     ]
    }
   ],
   "source": [
    "#4B. IDFT\n",
    "\n",
    "import numpy as np\n",
    "\n",
    "N=4\n",
    "D=np.empty((N,N),dtype=complex)\n",
    "W=np.exp(1j*2*np.pi/N) #Twiddle factor\n",
    "\n",
    "for k in np.arange(N):\n",
    "   for n in np.arange(N):\n",
    "       D[k,n]=W**(k*n) #Twiddle factor matrix\n",
    "np.round(D)\n",
    "\n",
    "X=np.array([[10,-2+2j,-2,-2-2j]]).T #Column vector\n",
    "x=(1/N)* (D @ X)  #matrix product divided by N\n",
    "\n",
    "print(\"X(k)=\",X)\n",
    "print(\"x(n)=\",np.round(x))"
   ]
  },
  {
   "cell_type": "code",
   "execution_count": 19,
   "metadata": {
    "colab": {
     "base_uri": "https://localhost:8080/",
     "height": 802
    },
    "executionInfo": {
     "elapsed": 632,
     "status": "ok",
     "timestamp": 1645873620506,
     "user": {
      "displayName": "Nazrin Ansari",
      "photoUrl": "https://lh3.googleusercontent.com/a-/AOh14GgdCbln4qQ8E1nJErr7jgWAw8PtEvFFq4d_QZ0AEg=s64",
      "userId": "03916050333159620578"
     },
     "user_tz": -330
    },
    "id": "uc1kxWFDtlDW",
    "outputId": "1ccae239-9ffb-4fb9-f15a-5d9dcce74160"
   },
   "outputs": [
    {
     "name": "stdout",
     "output_type": "stream",
     "text": [
      "x(n)= [2 2 7 8 7 0 7 2 5 2 3 1 3 8 8 3 8 5 1 4 9 5 0 6 1 5 5 7 4 7 7 0]\n",
      "X(k)= [142. +0.j  -2. +4.j  10. +0.j -18. -7.j -18. +4.j  -6.-19.j -17. +8.j\n",
      " -16. +3.j   1. -3.j -14.+14.j  13.-22.j   8. +3.j   4. -8.j  -6.-10.j\n",
      "   9. +7.j   4.+22.j  12. -0.j   4.-22.j   9. -7.j  -6.+10.j   4. +8.j\n",
      "   8. -3.j  13.+22.j -14.-14.j   1. +3.j -16. -3.j -17. -8.j  -6.+19.j\n",
      " -18. -4.j -18. +7.j  10. -0.j  -2. -4.j]\n",
      "(32,)\n",
      "x(n) by IFFT= [ 2.-0.j  2.+0.j  7.-0.j  8.-0.j  7.-0.j  0.+0.j  7.-0.j  2.+0.j  5.-0.j\n",
      "  2.+0.j  3.+0.j  1.+0.j  3.+0.j  8.+0.j  8.-0.j  3.+0.j  8.-0.j  5.+0.j\n",
      "  1.+0.j  4.+0.j  9.-0.j  5.-0.j -0.+0.j  6.-0.j  1.+0.j  5.+0.j  5.+0.j\n",
      "  7.-0.j  4.+0.j  7.-0.j  7.-0.j -0.+0.j]\n"
     ]
    },
    {
     "data": {
      "image/png": "[encoded data removed]",
      "text/plain": [
       "<Figure size 432x288 with 1 Axes>"
      ]
     },
     "metadata": {
      "needs_background": "light"
     },
     "output_type": "display_data"
    },
    {
     "data": {
      "image/png": "[encoded data removed]",
      "text/plain": [
       "<Figure size 432x288 with 1 Axes>"
      ]
     },
     "metadata": {
      "needs_background": "light"
     },
     "output_type": "display_data"
    }
   ],
   "source": [
    "#5A. FFT & IFFT\n",
    "\n",
    "import numpy as np\n",
    "import matplotlib.pyplot as plt\n",
    "\n",
    "def FFT(x):\n",
    "    N = len(x)\n",
    "    if N == 1:\n",
    "        return x\n",
    "    else:\n",
    "      X_even = FFT(x[::2])\n",
    "      X_odd = FFT(x[1::2])\n",
    "      factor = np.exp(-2j*np.pi*np.arange(N)/ N)\n",
    "      X = np.concatenate([X_even+factor[:int(N/2)]*X_odd, X_even+factor[int(N/2):]*X_odd])\n",
    "\n",
    "    return X\n",
    "\n",
    "def IFFT(k):\n",
    "  kx=np.asarray(k,dtype=complex)\n",
    "  kconj=np.conjugate(kx)\n",
    "  X=FFT(kconj)\n",
    "  x=np.conjugate(X)\n",
    "  x=x/k.shape[0]\n",
    "\n",
    "  return np.round(x)\n",
    "\n",
    "x=np.random.randint(0,10,32)\n",
    "X=np.round(FFT(x)) \n",
    "print(\"x(n)=\",x)\n",
    "print(\"X(k)=\",X) \n",
    "\n",
    "\n",
    "\n",
    "print(\"x(n) by IFFT=\",IFFT(x))    \n",
    "\n",
    "#Magnitude & Phase spectrum\n",
    "N=len(x)\n",
    "mag=np.zeros(N)\n",
    "ph=np.zeros(N)\n",
    "n=np.arange(N)\n",
    "for k in np.arange(N):\n",
    "    mag[k]=np.absolute(X[k])\n",
    "    ph[k]=np.angle(X[k])\n",
    "\n",
    "plt.title(\"Magnitude Spectrum\") \n",
    "plt.xlabel(\"k\")\n",
    "plt.ylabel(\"|X(k)|\")  \n",
    "plt.stem(n,mag, markerfmt=\" \", basefmt=\"-b\",use_line_collection=True)\n",
    "plt.show()\n",
    "\n",
    "plt.title(\"Phase Spectrum\") \n",
    "plt.xlabel(\"k\")\n",
    "plt.ylabel(\"<X(k)\")    \n",
    "plt.stem(n,ph,markerfmt=\" \", basefmt=\"-b\",use_line_collection=True)\n",
    "plt.show()"
   ]
  },
  {
   "cell_type": "code",
   "execution_count": 30,
   "metadata": {
    "colab": {
     "base_uri": "https://localhost:8080/",
     "height": 846
    },
    "executionInfo": {
     "elapsed": 1060,
     "status": "ok",
     "timestamp": 1645873636839,
     "user": {
      "displayName": "Nazrin Ansari",
      "photoUrl": "https://lh3.googleusercontent.com/a-/AOh14GgdCbln4qQ8E1nJErr7jgWAw8PtEvFFq4d_QZ0AEg=s64",
      "userId": "03916050333159620578"
     },
     "user_tz": -330
    },
    "id": "_Qo_7o6ZtlLX",
    "outputId": "3cae46e0-d851-4da8-cf10-f8d744beda85"
   },
   "outputs": [
    {
     "data": {
      "image/png": "[encoded data removed]",
      "text/plain": [
       "<Figure size 432x288 with 1 Axes>"
      ]
     },
     "metadata": {
      "needs_background": "light"
     },
     "output_type": "display_data"
    },
    {
     "data": {
      "image/png": "[encoded data removed]",
      "text/plain": [
       "<Figure size 432x288 with 1 Axes>"
      ]
     },
     "metadata": {
      "needs_background": "light"
     },
     "output_type": "display_data"
    },
    {
     "data": {
      "image/png": "[encoded data removed]",
      "text/plain": [
       "<Figure size 432x288 with 1 Axes>"
      ]
     },
     "metadata": {
      "needs_background": "light"
     },
     "output_type": "display_data"
    }
   ],
   "source": [
    "# 5B. FFT with sampling Rate.\n",
    "# Plot amplitude spectrum for both 2-sided and 1-sided frequencies\n",
    "\n",
    "import numpy as np\n",
    "import matplotlib.pyplot as plt\n",
    "\n",
    "def FFT(x):\n",
    "    N = len(x)\n",
    "    if N == 1:\n",
    "        return x\n",
    "    else:\n",
    "      X_even = FFT(x[::2])\n",
    "      X_odd = FFT(x[1::2])\n",
    "      factor = np.exp(-2j*np.pi*np.arange(N)/ N)\n",
    "      X = np.concatenate([X_even+factor[:int(N/2)]*X_odd, X_even+factor[int(N/2):]*X_odd])\n",
    "\n",
    "    return X    \n",
    "\n",
    "#With sampling\n",
    "sr = 128  # sampling rate\n",
    "ts = 1.0/sr #sampling interval\n",
    "t = np.arange(0,1,ts)\n",
    "\n",
    "freq = 5\n",
    "x = 3*np.sin(2*np.pi*freq*t) \n",
    "\n",
    "freq = 10\n",
    "x += np.sin(2*np.pi*freq*t)\n",
    "\n",
    "freq =15  \n",
    "x += 0.5*np.sin(2*np.pi*freq*t)\n",
    "\n",
    "plt.plot(t,x)\n",
    "plt.ylabel('Amplitude')\n",
    "plt.show()\n",
    "\n",
    "X=np.round(FFT(x))\n",
    "\n",
    "#One-side and two-side frequency plots\n",
    "#Calculate the frequency\n",
    "N = len(X)\n",
    "n = np.arange(N)\n",
    "T = N/sr\n",
    "freq = n/T \n",
    "\n",
    "\n",
    "plt.stem(freq, abs(X), markerfmt=\" \", basefmt=\"-b\",use_line_collection=True)\n",
    "plt.xlabel('Freq (Hz)')\n",
    "plt.ylabel('FFT Amplitude |X(freq)|')\n",
    "plt.show()\n",
    "\n",
    "# Get the one-sided specturm and frequency\n",
    "n_oneside = N//2\n",
    "f_oneside = freq[:n_oneside]\n",
    "\n",
    "# normalize the amplitude\n",
    "X_oneside =X[:n_oneside]/n_oneside\n",
    "\n",
    "plt.stem(f_oneside, abs(X_oneside), markerfmt=\" \", basefmt=\"-b\",use_line_collection=True)\n",
    "plt.xlabel('Freq (Hz)')\n",
    "plt.ylabel('Normalized FFT Amplitude |X(freq)|')\n",
    "plt.show()"
   ]
  },
  {
   "cell_type": "code",
   "execution_count": 8,
   "metadata": {
    "colab": {
     "base_uri": "https://localhost:8080/",
     "height": 705
    },
    "executionInfo": {
     "elapsed": 6391,
     "status": "ok",
     "timestamp": 1645873665949,
     "user": {
      "displayName": "Nazrin Ansari",
      "photoUrl": "https://lh3.googleusercontent.com/a-/AOh14GgdCbln4qQ8E1nJErr7jgWAw8PtEvFFq4d_QZ0AEg=s64",
      "userId": "03916050333159620578"
     },
     "user_tz": -330
    },
    "id": "GIVQxdAYtlPO",
    "outputId": "bc4f6145-3772-4506-cec6-3fc594d9f139"
   },
   "outputs": [
    {
     "data": {
      "image/png": "[encoded data removed]",
      "text/plain": [
       "<Figure size 864x432 with 1 Axes>"
      ]
     },
     "metadata": {
      "needs_background": "light"
     },
     "output_type": "display_data"
    },
    {
     "data": {
      "image/png": "[encoded data removed]",
      "text/plain": [
       "<Figure size 432x288 with 1 Axes>"
      ]
     },
     "metadata": {
      "needs_background": "light"
     },
     "output_type": "display_data"
    }
   ],
   "source": [
    "#6. Design of FIR filter by Hamming window\n",
    "\n",
    "import numpy as np\n",
    "import matplotlib.pyplot as plt\n",
    "from scipy.fft import fft, ifft\n",
    "\n",
    "def sinc_filter(M, fc):\n",
    "    \"\"\"Return an M + 1 point symmetric point sinc kernel with normalised cut-off \n",
    "            frequency fc 0->0.5.\"\"\"\n",
    "    if M%2:\n",
    "        raise Exception('M must be odd')\n",
    "    return np.sinc(2*fc*(np.arange(M + 1) - M/2))\n",
    "\n",
    "def hamming(M):\n",
    "    \"\"\"Return an M + 1 point symmetric hamming window.\"\"\"\n",
    "    if M%2:\n",
    "        raise Exception('M must be odd')\n",
    "    return 0.54 - 0.46*np.cos(2*np.pi*np.arange(M + 1)/M)\n",
    "\n",
    "def build_filter(M, fc, window=None):\n",
    "    \n",
    "    \"\"\"Construct filter using the windowing method for filter parameters M\n",
    "    number of taps, cut-off frequency fc and window. Window defaults to None \n",
    "    i.e. a rectangular window.\"\"\"\n",
    "    if window is None:\n",
    "        h = sinc_filter(M, fc)\n",
    "    else:\n",
    "        h = sinc_filter(M, fc)*window(M)\n",
    "    return h/h.sum()\n",
    "\n",
    "f0 = 20 #20Hz\n",
    "ts = 0.01 # i.e. sampling frequency is 1/ts = 100Hz\n",
    "sr = 1/ts\n",
    "x = np.arange(-10, 10, ts)\n",
    "signal = (np.cos(2*np.pi*f0*x) + np.sin(2*np.pi*2*f0*x) + \n",
    "                np.cos(2*np.pi*0.5*f0*x) + np.cos(2*np.pi*1.5*f0*x))\n",
    "\n",
    "#build filters\n",
    "#Low pass\n",
    "M = 100 #number of taps in filter\n",
    "fc = 0.25 #i.e. normalised cutoff frequency 1/4 of sampling rate i.e. 25Hz\n",
    "ham_lp = build_filter(M, fc, window=hamming)\n",
    "y_ham = np.convolve(signal, ham_lp)\n",
    "\n",
    "X = fft(signal)\n",
    "Nx = len(X)\n",
    "n = np.arange(Nx)\n",
    "T = Nx/sr\n",
    "freq = n/T \n",
    "\n",
    "plt.figure(figsize = (12, 6))\n",
    "plt.subplot(121)\n",
    "plt.stem(freq, abs(X), 'b', markerfmt=\" \", basefmt=\"-b\")\n",
    "plt.xlabel('Freq (Hz)')\n",
    "plt.ylabel('FFT Amplitude of Input |X(freq)|')\n",
    "plt.show()\n",
    "\n",
    "Y=fft(y_ham)\n",
    "Ny = len(Y)\n",
    "n = np.arange(Ny)\n",
    "T = Ny/sr\n",
    "freq = n/T \n",
    "\n",
    "plt.stem(freq, abs(Y), 'b', markerfmt=\" \", basefmt=\"-b\",use_line_collection=True)\n",
    "plt.xlabel('Freq (Hz)')\n",
    "plt.ylabel('FFT Amplitude of Output |Y(freq)|')\n",
    "plt.show()"
   ]
  },
  {
   "cell_type": "code",
   "execution_count": 9,
   "metadata": {
    "colab": {
     "base_uri": "https://localhost:8080/"
    },
    "executionInfo": {
     "elapsed": 375,
     "status": "ok",
     "timestamp": 1645873682610,
     "user": {
      "displayName": "Nazrin Ansari",
      "photoUrl": "https://lh3.googleusercontent.com/a-/AOh14GgdCbln4qQ8E1nJErr7jgWAw8PtEvFFq4d_QZ0AEg=s64",
      "userId": "03916050333159620578"
     },
     "user_tz": -330
    },
    "id": "PLFUyiODtlT4",
    "outputId": "19620881-3891-4676-82d9-0f4dfc2dfbbe"
   },
   "outputs": [
    {
     "name": "stdout",
     "output_type": "stream",
     "text": [
      "x(n): [ 3. -1.  0.  1.  3.  2.  0.  1.  2.  1.  0.  0.]\n",
      "h(n): [1. 1. 1. 0. 0.]\n",
      "By overlap save, x(n)*h(n)= [3. 2. 2. 0. 4. 6. 5. 3. 3. 4. 3. 1.]\n"
     ]
    }
   ],
   "source": [
    "#7. Linear Convolution by Overlap Save Method\n",
    "\n",
    "import numpy as np\n",
    "from scipy.fft import fft, ifft\n",
    "\n",
    "x=[3,-1,0,1,3,2,0,1,2,1]\n",
    "TL=len(x)\n",
    "h=[1,1,1]\n",
    "M=len(h)      \n",
    "y=[]\n",
    "\n",
    "h=np.append(h,np.zeros(M-1))\n",
    "x=np.append(x,np.zeros(M-TL%M))\n",
    "\n",
    "b=int(np.ceil(TL/M)) #Total No of blocks\n",
    "\n",
    "for i in np.arange(b):\n",
    "  if i==0:\n",
    "    xi=np.append(np.zeros(M-1),x[0:M])\n",
    "\n",
    "  else:\n",
    "    xi=x[i*M-(M-1):(i+1)*M]\n",
    "  \n",
    "  #Discarding first M-1 terms\n",
    "  yn=ifft(fft(xi)*fft(h))\n",
    "  yi=yn[M-1:2*M-1]\n",
    "  y=np.append(y,yi)\n",
    "\n",
    "print(\"x(n):\",x)\n",
    "print(\"h(n):\",h)\n",
    "print(\"By overlap save, x(n)*h(n)=\",np.real(y))"
   ]
  },
  {
   "cell_type": "code",
   "execution_count": 10,
   "metadata": {
    "colab": {
     "base_uri": "https://localhost:8080/"
    },
    "executionInfo": {
     "elapsed": 346,
     "status": "ok",
     "timestamp": 1645873700483,
     "user": {
      "displayName": "Nazrin Ansari",
      "photoUrl": "https://lh3.googleusercontent.com/a-/AOh14GgdCbln4qQ8E1nJErr7jgWAw8PtEvFFq4d_QZ0AEg=s64",
      "userId": "03916050333159620578"
     },
     "user_tz": -330
    },
    "id": "J3JKiWxPt4qJ",
    "outputId": "16ea295e-028e-4409-ffb5-4dc8b6b70d7c"
   },
   "outputs": [
    {
     "name": "stdout",
     "output_type": "stream",
     "text": [
      "The output sequence is: [ 1.  4.  3.  0.  7.  4. -7. -7. -1.  3.  4.  3. -2.  0.]\n"
     ]
    }
   ],
   "source": [
    "#Linear Convolution by Overlap Add Method\n",
    "\n",
    "import numpy as np\n",
    "from scipy.fft import fft, ifft\n",
    "x = np.array([1,2,-1,2,3,-2,-3,-1,1,1,2,-1])\n",
    "h = np.array([1,2])\n",
    "\n",
    "M = len(h) #lengh of h\n",
    "XL = len(x) #length of input sequence\n",
    "FL = M+XL-1 #required length of the final convoluted sequence\n",
    "\n",
    "N = 2*M-1 #size of each block\n",
    "B = int(np.ceil(XL/M)) #number of blocks\n",
    "\n",
    "Yi = np.zeros(FL+M-1) #to store the final sequence\n",
    " \n",
    "for i in np.arange(B):\n",
    "  Xi = x[i*M : (i+1)*M] #extracting each group\n",
    "  y = np.real(np.round(ifft(np.multiply(fft(h,N), fft(Xi,N))))) #output of each block\n",
    "  Yi[i*M:i*M+N] += y  #adding and storing the required points\n",
    "\n",
    "#if len(Yi)>FL:\n",
    "  #Yi = Yi[:FL] #discarding extra points if any\n",
    "print ('The output sequence is:',Yi)\n"
   ]
  }
 ],
 "metadata": {
  "colab": {
   "authorship_tag": "ABX9TyPqknmY0yQHkySiOH2Uju40",
   "collapsed_sections": [],
   "name": "Untitled0.ipynb",
   "provenance": []
  },
  "kernelspec": {
   "display_name": "Python 3 (ipykernel)",
   "language": "python",
   "name": "python3"
  },
  "language_info": {
   "codemirror_mode": {
    "name": "ipython",
    "version": 3
   },
   "file_extension": ".py",
   "mimetype": "text/x-python",
   "name": "python",
   "nbconvert_exporter": "python",
   "pygments_lexer": "ipython3",
   "version": "3.9.7"
  }
 },
 "nbformat": 4,
 "nbformat_minor": 1
}
