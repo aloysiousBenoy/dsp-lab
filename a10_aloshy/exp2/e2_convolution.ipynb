{
 "cells": [
  {
   "cell_type": "code",
   "execution_count": 3,
   "metadata": {},
   "outputs": [],
   "source": [
    "import numpy as np\n",
    "import matplotlib.pyplot as plt"
   ]
  },
  {
   "cell_type": "code",
   "execution_count": 42,
   "metadata": {},
   "outputs": [],
   "source": [
    "def lin_convolution(x,h):\n",
    "    M= len(x)\n",
    "    N = len(h)\n",
    "    K = max(N,M)\n",
    "    L = min(N,M)\n",
    "        \n",
    "    if M!=N:\n",
    "        if M>N:\n",
    "            h= np.append(h,np.zeros(M-N))   \n",
    "        else :\n",
    "            x = np.append(x,np.zeros(N-M))\n",
    "    M= len(x)\n",
    "    N = len(h)\n",
    "    y= np.zeros(N+M-1)\n",
    "    K = max(N,M)\n",
    "    L = min(N,M)\n",
    "        \n",
    "    for i in range(len(y)):\n",
    "        lb = max(0,i-L)\n",
    "        ub = min(i,K)\n",
    "        print(lb,ub,sep=\"->\")\n",
    "        print(\"y {} =  \".format(i),end=\"\")\n",
    "        for j in range(lb,ub):\n",
    "            y[i]+=x[j]*h[i-j]\n",
    "            print(\" x {} h {}\".format(j,i-j), end=\" +\")\n",
    "        print()\n",
    "        \n",
    "    return y\n",
    "\n",
    "\n"
   ]
  },
  {
   "cell_type": "code",
   "execution_count": null,
   "metadata": {},
   "outputs": [],
   "source": [
    "def lin_convolution(x,h):\n",
    "    M= len(x)\n",
    "    N = len(h)\n",
    "        \n",
    "    if M!=N:\n",
    "        if M>N:\n",
    "            h= np.append(h,np.zeros(M-N))   \n",
    "        else :\n",
    "            x = np.append(x,np.zeros(N-M))\n",
    "    M= len(x)\n",
    "    N = len(h)\n",
    "    y= np.zeros(N+M-1)\n",
    "    K = max(N,M)\n",
    "    L = min(N,M)\n",
    "        \n",
    "    for i in range(len(y)):\n",
    "        if i>K:\n",
    "            y[i]+=x[j]*h[i-j]\n",
    "        print()\n",
    "        \n",
    "    return y"
   ]
  },
  {
   "cell_type": "code",
   "execution_count": 5,
   "metadata": {},
   "outputs": [],
   "source": [
    "def lin_convolution_3(x,h):\n",
    "    # k= int(input(\"Enter k\"))\n",
    "    # x = np.random.randint(1,10,k)\n",
    "    # print (x)\n",
    "    # m = int(input(\"Enter m\"))\n",
    "    # h = np.random.randint(1,10,m)\n",
    "    # print (h)\n",
    "    k = len(x)\n",
    "    m = len(h)\n",
    "    n = k+m-1\n",
    "    y = np.zeros(n)\n",
    "    if(m<=k):\n",
    "        for i in np.arange(n):\n",
    "            if i<=m:\n",
    "                y[i] = np.dot(x[0:i+1],h[i::-1])\n",
    "            elif i<=k :\n",
    "                y[i]= np.dot(x[i-m:i+1],h[::-1])\n",
    "            else :\n",
    "                y[i]= np.dot(x[i-m+1:],h[m:i-k:-1])\n",
    "    \n",
    "    print (y)\n",
    "                \n",
    "        \n",
    "    return y\n",
    "\n",
    "\n"
   ]
  },
  {
   "cell_type": "code",
   "execution_count": 6,
   "metadata": {},
   "outputs": [
    {
     "name": "stdout",
     "output_type": "stream",
     "text": [
      "[1. 3. 4. 6. 6. 3. 2.]\n"
     ]
    },
    {
     "data": {
      "text/plain": [
       "array([1., 3., 4., 6., 6., 3., 2.])"
      ]
     },
     "execution_count": 6,
     "metadata": {},
     "output_type": "execute_result"
    }
   ],
   "source": [
    "x=np.array([1,2,1,2])\n",
    "h = np.array([1,1,1,1])\n",
    "lin_convolution_3(x,h)\n",
    "\n"
   ]
  },
  {
   "cell_type": "code",
   "execution_count": null,
   "metadata": {},
   "outputs": [],
   "source": []
  },
  {
   "cell_type": "code",
   "execution_count": null,
   "metadata": {},
   "outputs": [],
   "source": []
  },
  {
   "cell_type": "code",
   "execution_count": 1,
   "metadata": {},
   "outputs": [
    {
     "name": "stdout",
     "output_type": "stream",
     "text": [
      "[ 1.  7. 13. 19. 20.]\n"
     ]
    },
    {
     "data": {
      "image/png": "[encoded data removed]",
      "text/plain": [
       "<Figure size 720x720 with 3 Axes>"
      ]
     },
     "metadata": {
      "needs_background": "light"
     },
     "output_type": "display_data"
    }
   ],
   "source": [
    "\n",
    "\n",
    "#linear convolution\n",
    "import numpy as np\n",
    "import matplotlib.pyplot as plt\n",
    "def lin_convolution(x,h):\n",
    "    M= len(x)\n",
    "    N = len(h)\n",
    "       \n",
    "    if M!=N:\n",
    "        if M>N:\n",
    "            h= np.append(h,np.zeros(M-N))   \n",
    "        else :\n",
    "            x = np.append(x,np.zeros(N-M))\n",
    "    K= max(N,M)\n",
    "    y= np.zeros(N+M-1)\n",
    "        \n",
    "    for i in range(len(y)):\n",
    "      if i<M:\n",
    "        for j in range(i+1):\n",
    "              y[i]+=x[j]*h[i-j]\n",
    "      elif i>=M:\n",
    "        for j in range(K-1,i-K,-1):\n",
    "              y[i]+=x[j]*h[i-j]\n",
    "        \n",
    "    return y[:N+M-1]\n",
    "\n",
    "x=np.array([1,2,3,4])\n",
    "h = np.array([1,5])\n",
    "print(lin_convolution(x,h))\n",
    "fig, axs = plt.subplots(3, figsize=(10,10))\n",
    "axs[0].stem(x, use_line_collection = True)\n",
    "axs[0].set_title(\"x\")\n",
    "axs[0].grid(True)\n",
    "axs[1].stem(h, use_line_collection = True)\n",
    "axs[1].set_title(\"h\")\n",
    "axs[1].grid(True)\n",
    "axs[2].stem(lin_convolution(x,h), use_line_collection = True)\n",
    "axs[2].set_title(\"linear convolution\")\n",
    "axs[2].grid(True)\n",
    "plt.subplots_adjust(hspace=0.4)\n",
    "#plt.show()\n",
    "plt.savefig('e2_linear_convolve.pdf')\n",
    "\n"
   ]
  },
  {
   "cell_type": "code",
   "execution_count": 2,
   "metadata": {},
   "outputs": [
    {
     "name": "stdout",
     "output_type": "stream",
     "text": [
      "[ 4. 15. 31. 48. 45. 23.  4.]\n"
     ]
    },
    {
     "data": {
      "image/png": "[encoded data removed]",
      "text/plain": [
       "<Figure size 720x720 with 3 Axes>"
      ]
     },
     "metadata": {
      "needs_background": "light"
     },
     "output_type": "display_data"
    }
   ],
   "source": [
    "\n",
    "\n",
    "#correlation\n",
    "import numpy as np\n",
    "import matplotlib.pyplot as plt\n",
    "def correlation(x,h):\n",
    "    M= len(x)\n",
    "    N = len(h)\n",
    "       \n",
    "    if M!=N:\n",
    "        if M>N:\n",
    "            h= np.append(h,np.zeros(M-N))   \n",
    "        else :\n",
    "            x = np.append(x,np.zeros(N-M))\n",
    "    K= max(N,M)\n",
    "    y= np.zeros(len(x)+len(h)-1)\n",
    "    h= h[::-1]\n",
    "    \n",
    "        \n",
    "    for i in range(len(y)):\n",
    "      if i<M:\n",
    "        for j in range(i+1):\n",
    "              y[i]+=x[j]*h[i-j]\n",
    "      elif i>=M:\n",
    "        for j in range(K-1,i-K,-1):\n",
    "              y[i]+=x[j]*h[i-j]\n",
    "              \n",
    "    if len(h)>N or len(x)>M:\n",
    "      return y[(abs(N-M))::]\n",
    "    else:\n",
    "      return y\n",
    "\n",
    "x=np.array([1,2,3,4])\n",
    "h = np.array([1,5,7,4])\n",
    "print(correlation(x,h))\n",
    "fig, axs = plt.subplots(3, figsize=(10,10))\n",
    "axs[0].stem(x, use_line_collection = True)\n",
    "axs[0].set_title(\"x\")\n",
    "axs[0].grid(True)\n",
    "axs[1].stem(h, use_line_collection = True)\n",
    "axs[1].set_title(\"h\")\n",
    "axs[1].grid(True)\n",
    "axs[2].stem(correlation(x,h), use_line_collection = True)\n",
    "axs[2].set_title(\"correlation\")\n",
    "axs[2].grid(True)\n",
    "plt.subplots_adjust(hspace=0.4)\n",
    "#plt.show()\n",
    "plt.savefig('e2_correlation.pdf')\n",
    "\n"
   ]
  },
  {
   "cell_type": "code",
   "execution_count": 3,
   "metadata": {},
   "outputs": [
    {
     "name": "stdout",
     "output_type": "stream",
     "text": [
      "30\n"
     ]
    }
   ],
   "source": [
    "\n",
    "\n",
    "#energy of signals\n",
    "import numpy as np\n",
    "import matplotlib.pyplot as plt\n",
    "def energy(x):\n",
    "    y= np.multiply(x,x)\n",
    "    return sum(y)\n",
    "\n",
    "x=np.array([1,2,3,4])\n",
    "\n",
    "print(energy(x))\n",
    "\n"
   ]
  },
  {
   "cell_type": "code",
   "execution_count": null,
   "metadata": {},
   "outputs": [],
   "source": []
  }
 ],
 "metadata": {
  "interpreter": {
   "hash": "ed432432977283696daa711274c0c607d08ffb2ec901a756c9d1f6d2ed598796"
  },
  "kernelspec": {
   "display_name": "Python 3.8.12 64-bit ('sclab': conda)",
   "language": "python",
   "name": "python3"
  },
  "language_info": {
   "codemirror_mode": {
    "name": "ipython",
    "version": 3
   },
   "file_extension": ".py",
   "mimetype": "text/x-python",
   "name": "python",
   "nbconvert_exporter": "python",
   "pygments_lexer": "ipython3",
   "version": "3.8.12"
  },
  "orig_nbformat": 4
 },
 "nbformat": 4,
 "nbformat_minor": 2
}
