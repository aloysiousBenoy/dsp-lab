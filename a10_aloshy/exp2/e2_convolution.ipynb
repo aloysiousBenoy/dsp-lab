{
 "cells": [
  {
   "cell_type": "code",
   "execution_count": 3,
   "metadata": {},
   "outputs": [],
   "source": [
    "import numpy as np\n",
    "import matplotlib.pyplot as plt"
   ]
  },
  {
   "cell_type": "code",
   "execution_count": 42,
   "metadata": {},
   "outputs": [],
   "source": [
    "def lin_convolution(x,h):\n",
    "    M= len(x)\n",
    "    N = len(h)\n",
    "    K = max(N,M)\n",
    "    L = min(N,M)\n",
    "        \n",
    "    if M!=N:\n",
    "        if M>N:\n",
    "            h= np.append(h,np.zeros(M-N))   \n",
    "        else :\n",
    "            x = np.append(x,np.zeros(N-M))\n",
    "    M= len(x)\n",
    "    N = len(h)\n",
    "    y= np.zeros(N+M-1)\n",
    "    K = max(N,M)\n",
    "    L = min(N,M)\n",
    "        \n",
    "    for i in range(len(y)):\n",
    "        lb = max(0,i-L)\n",
    "        ub = min(i,K)\n",
    "        print(lb,ub,sep=\"->\")\n",
    "        print(\"y {} =  \".format(i),end=\"\")\n",
    "        for j in range(lb,ub):\n",
    "            y[i]+=x[j]*h[i-j]\n",
    "            print(\" x {} h {}\".format(j,i-j), end=\" +\")\n",
    "        print()\n",
    "        \n",
    "    return y\n",
    "\n",
    "\n"
   ]
  },
  {
   "cell_type": "code",
   "execution_count": null,
   "metadata": {},
   "outputs": [],
   "source": [
    "def lin_convolution(x,h):\n",
    "    M= len(x)\n",
    "    N = len(h)\n",
    "        \n",
    "    if M!=N:\n",
    "        if M>N:\n",
    "            h= np.append(h,np.zeros(M-N))   \n",
    "        else :\n",
    "            x = np.append(x,np.zeros(N-M))\n",
    "    M= len(x)\n",
    "    N = len(h)\n",
    "    y= np.zeros(N+M-1)\n",
    "    K = max(N,M)\n",
    "    L = min(N,M)\n",
    "        \n",
    "    for i in range(len(y)):\n",
    "        if i>K:\n",
    "            y[i]+=x[j]*h[i-j]\n",
    "        print()\n",
    "        \n",
    "    return y"
   ]
  },
  {
   "cell_type": "code",
   "execution_count": 5,
   "metadata": {},
   "outputs": [],
   "source": [
    "def lin_convolution_3(x,h):\n",
    "    # k= int(input(\"Enter k\"))\n",
    "    # x = np.random.randint(1,10,k)\n",
    "    # print (x)\n",
    "    # m = int(input(\"Enter m\"))\n",
    "    # h = np.random.randint(1,10,m)\n",
    "    # print (h)\n",
    "    k = len(x)\n",
    "    m = len(h)\n",
    "    n = k+m-1\n",
    "    y = np.zeros(n)\n",
    "    if(m<=k):\n",
    "        for i in np.arange(n):\n",
    "            if i<=m:\n",
    "                y[i] = np.dot(x[0:i+1],h[i::-1])\n",
    "            elif i<=k :\n",
    "                y[i]= np.dot(x[i-m:i+1],h[::-1])\n",
    "            else :\n",
    "                y[i]= np.dot(x[i-m+1:],h[m:i-k:-1])\n",
    "    \n",
    "    print (y)\n",
    "                \n",
    "        \n",
    "    return y\n",
    "\n",
    "\n"
   ]
  },
  {
   "cell_type": "code",
   "execution_count": 6,
   "metadata": {},
   "outputs": [
    {
     "name": "stdout",
     "output_type": "stream",
     "text": [
      "[1. 3. 4. 6. 6. 3. 2.]\n"
     ]
    },
    {
     "data": {
      "text/plain": [
       "array([1., 3., 4., 6., 6., 3., 2.])"
      ]
     },
     "execution_count": 6,
     "metadata": {},
     "output_type": "execute_result"
    }
   ],
   "source": [
    "x=np.array([1,2,1,2])\n",
    "h = np.array([1,1,1,1])\n",
    "lin_convolution_3(x,h)\n",
    "\n"
   ]
  },
  {
   "cell_type": "code",
   "execution_count": null,
   "metadata": {},
   "outputs": [],
   "source": []
  }
 ],
 "metadata": {
  "interpreter": {
   "hash": "ed432432977283696daa711274c0c607d08ffb2ec901a756c9d1f6d2ed598796"
  },
  "kernelspec": {
   "display_name": "Python 3.8.12 64-bit ('sclab': conda)",
   "language": "python",
   "name": "python3"
  },
  "language_info": {
   "codemirror_mode": {
    "name": "ipython",
    "version": 3
   },
   "file_extension": ".py",
   "mimetype": "text/x-python",
   "name": "python",
   "nbconvert_exporter": "python",
   "pygments_lexer": "ipython3",
   "version": "3.8.12"
  },
  "orig_nbformat": 4
 },
 "nbformat": 4,
 "nbformat_minor": 2
}
