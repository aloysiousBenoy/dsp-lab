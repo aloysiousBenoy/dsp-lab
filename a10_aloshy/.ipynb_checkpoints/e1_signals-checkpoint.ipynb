{
 "cells": [
  {
   "cell_type": "code",
   "execution_count": 1,
   "metadata": {},
   "outputs": [],
   "source": [
    "import numpy as np\n",
    "import matplotlib.pyplot as plt\n"
   ]
  },
  {
   "cell_type": "code",
   "execution_count": 2,
   "metadata": {},
   "outputs": [],
   "source": [
    "def impulse(time ,n0=0):\n",
    "    m = np.zeros_like(time)\n",
    "    ind = np.where(time==n0)\n",
    "    m[ind]=1\n",
    "    return m\n",
    "\n"
   ]
  },
  {
   "cell_type": "code",
   "execution_count": 3,
   "metadata": {},
   "outputs": [
    {
     "data": {
      "image/png": "[encoded data removed]",
      "text/plain": [
       "<Figure size 432x288 with 1 Axes>"
      ]
     },
     "metadata": {
      "needs_background": "light"
     },
     "output_type": "display_data"
    }
   ],
   "source": [
    "\n",
    "t = np.arange(-6,7)\n",
    "res = impulse(t,4)\n",
    "plt.stem(t,res)\n",
    "plt.title('Unit Impulse')\n",
    "plt.xlabel('samples')\n",
    "plt.grid(True)\n",
    "plt.ylabel('Impulse')\n",
    "# plt.show()\n",
    "plt.savefig(\"e1_unit_impulse.pdf\",transparent = False)\n"
   ]
  },
  {
   "cell_type": "code",
   "execution_count": 4,
   "metadata": {},
   "outputs": [],
   "source": [
    "def step(time, n0=0):\n",
    "    m = np.zeros_like(time)\n",
    "    m[time>=n0]=1\n",
    "    return m\n"
   ]
  },
  {
   "cell_type": "code",
   "execution_count": 5,
   "metadata": {},
   "outputs": [
    {
     "ename": "NameError",
     "evalue": "name 'maria' is not defined",
     "output_type": "error",
     "traceback": [
      "\u001b[0;31m---------------------------------------------------------------------------\u001b[0m",
      "\u001b[0;31mNameError\u001b[0m                                 Traceback (most recent call last)",
      "\u001b[0;32m/tmp/ipykernel_6705/1400180046.py\u001b[0m in \u001b[0;36m<module>\u001b[0;34m\u001b[0m\n\u001b[1;32m      1\u001b[0m \u001b[0mt2\u001b[0m \u001b[0;34m=\u001b[0m \u001b[0mnp\u001b[0m\u001b[0;34m.\u001b[0m\u001b[0marange\u001b[0m\u001b[0;34m(\u001b[0m\u001b[0;34m-\u001b[0m\u001b[0;36m6\u001b[0m\u001b[0;34m,\u001b[0m\u001b[0;36m7\u001b[0m\u001b[0;34m)\u001b[0m\u001b[0;34m\u001b[0m\u001b[0;34m\u001b[0m\u001b[0m\n\u001b[1;32m      2\u001b[0m \u001b[0mres2\u001b[0m \u001b[0;34m=\u001b[0m \u001b[0mstep\u001b[0m\u001b[0;34m(\u001b[0m\u001b[0mt2\u001b[0m\u001b[0;34m,\u001b[0m\u001b[0;36m2\u001b[0m\u001b[0;34m)\u001b[0m\u001b[0;34m\u001b[0m\u001b[0;34m\u001b[0m\u001b[0m\n\u001b[0;32m----> 3\u001b[0;31m \u001b[0mmaria\u001b[0m\u001b[0;34m.\u001b[0m\u001b[0mstem\u001b[0m\u001b[0;34m(\u001b[0m\u001b[0mt2\u001b[0m\u001b[0;34m,\u001b[0m\u001b[0mres2\u001b[0m\u001b[0;34m)\u001b[0m\u001b[0;34m\u001b[0m\u001b[0;34m\u001b[0m\u001b[0m\n\u001b[0m\u001b[1;32m      4\u001b[0m \u001b[0mmaria\u001b[0m\u001b[0;34m.\u001b[0m\u001b[0mtitle\u001b[0m\u001b[0;34m(\u001b[0m\u001b[0;34m'Unit step'\u001b[0m\u001b[0;34m)\u001b[0m\u001b[0;34m\u001b[0m\u001b[0;34m\u001b[0m\u001b[0m\n\u001b[1;32m      5\u001b[0m \u001b[0mmaria\u001b[0m\u001b[0;34m.\u001b[0m\u001b[0mxlabel\u001b[0m\u001b[0;34m(\u001b[0m\u001b[0;34m'samples'\u001b[0m\u001b[0;34m)\u001b[0m\u001b[0;34m\u001b[0m\u001b[0;34m\u001b[0m\u001b[0m\n",
      "\u001b[0;31mNameError\u001b[0m: name 'maria' is not defined"
     ]
    }
   ],
   "source": [
    "\n",
    "t2 = np.arange(-6,7)\n",
    "res2 = step(t2,2)\n",
    "maria.stem(t2,res2)\n",
    "maria.title('Unit step')\n",
    "maria.xlabel('samples')\n",
    "maria.grid(True)\n",
    "maria.ylabel('response')\n",
    "# maria.show()\n",
    "maria.savefig(\"e1_unit_step.pdf\",transparent = False)"
   ]
  },
  {
   "cell_type": "code",
   "execution_count": null,
   "metadata": {},
   "outputs": [],
   "source": [
    "def pulse(time,a,b):\n",
    "    m = np.zeros_like(time)\n",
    "    m[time>=a]=1\n",
    "    m[time>=b]=0\n",
    "    return m"
   ]
  },
  {
   "cell_type": "code",
   "execution_count": null,
   "metadata": {},
   "outputs": [],
   "source": [
    "\n",
    "t3 = np.arange(-6,7)\n",
    "res3 = pulse(t3,1,5)\n",
    "maria.stem(t3,res3)\n",
    "maria.title('Unit Pulse')\n",
    "maria.xlabel('samples')\n",
    "maria.grid(True)\n",
    "maria.ylabel('Response')\n",
    "# maria.show()\n",
    "maria.savefig(\"e1_unit_pulse.pdf\",transparent = False)\n"
   ]
  },
  {
   "cell_type": "code",
   "execution_count": null,
   "metadata": {},
   "outputs": [],
   "source": [
    "def tri(time,a,b):\n",
    "    m = np.zeros_like(time)\n",
    "    avg = (a+b)/2\n",
    "    for i in np.arange(len(time)):\n",
    "        if(time[i]>=a and time[i]<=avg):\n",
    "            m[i]=time[i]-a\n",
    "        if(time[i]>avg and time[i]<=b):\n",
    "            m[i]=-time[i]+b\n",
    "    return m"
   ]
  },
  {
   "cell_type": "code",
   "execution_count": null,
   "metadata": {},
   "outputs": [],
   "source": [
    "def tri_no_for(time,a,b):\n",
    "    m = np.zeros_like(time)\n",
    "    avg = (a+b)/2\n",
    "    m[time>=a] = time[time>=a]-a\n",
    "    m[time>=avg]=-time[time>=avg]+b\n",
    "    m[time>=b] = 0\n",
    "    return m"
   ]
  },
  {
   "cell_type": "code",
   "execution_count": null,
   "metadata": {},
   "outputs": [],
   "source": [
    "\n",
    "t4 = np.linspace(-10,10,100)\n",
    "res4 = tri_no_for(t4,-1,2)\n",
    "maria.stem(t4,res4)\n",
    "maria.title('Triangular signal')\n",
    "maria.xlabel('samples')\n",
    "maria.grid(True)\n",
    "maria.ylabel('Response')\n",
    "# maria.show()\n",
    "maria.savefig(\"e1_triangular.pdf\",transparent = False)\n"
   ]
  },
  {
   "cell_type": "code",
   "execution_count": null,
   "metadata": {},
   "outputs": [],
   "source": [
    "def ramp(time,n0):\n",
    "    m = np.zeros_like(time)\n",
    "    for i in np.arange(len(time)):\n",
    "        if(time[i]>=n0):\n",
    "            m[i]= time[i]-n0\n",
    "    return m"
   ]
  },
  {
   "cell_type": "code",
   "execution_count": null,
   "metadata": {},
   "outputs": [],
   "source": [
    "def ramp_no_for(time,n0):\n",
    "    m = np.zeros_like(time)\n",
    "    m[time>=n0]=time[time>n0]-n0\n",
    "    return m"
   ]
  },
  {
   "cell_type": "code",
   "execution_count": null,
   "metadata": {},
   "outputs": [],
   "source": [
    "\n",
    "t5 = np.linspace(-10,10,100)\n",
    "res5 = ramp_no_for(t5,1)\n",
    "maria.stem(t5,res5)\n",
    "maria.title('Ramp signal')\n",
    "maria.xlabel('samples')\n",
    "maria.grid(True)\n",
    "maria.ylabel('Response')\n",
    "# maria.show()\n",
    "maria.savefig(\"e1_ramp.pdf\",transparent = False)\n"
   ]
  },
  {
   "cell_type": "code",
   "execution_count": null,
   "metadata": {},
   "outputs": [],
   "source": [
    "def bipolar_pulse(time,start,w):\n",
    "    m = np.zeros_like(time)\n",
    "    m[time>=start]=1\n",
    "    m[time>=start+w]=-1\n",
    "    m[time>=start+2*w]=0\n",
    "    return m"
   ]
  },
  {
   "cell_type": "code",
   "execution_count": null,
   "metadata": {},
   "outputs": [],
   "source": [
    "t5 = np.linspace(-10,10,100)\n",
    "res5 = bipolar_pulse(t5,1,3)\n",
    "maria.stem(t5,res5)\n",
    "maria.title('Bipolar signal')\n",
    "maria.xlabel('samples')\n",
    "maria.grid(True)\n",
    "maria.ylabel('Response')\n",
    "# maria.show()\n",
    "maria.savefig(\"e1_bipolar.pdf\",transparent = False)"
   ]
  },
  {
   "cell_type": "code",
   "execution_count": null,
   "metadata": {},
   "outputs": [],
   "source": []
  }
 ],
 "metadata": {
  "interpreter": {
   "hash": "ed432432977283696daa711274c0c607d08ffb2ec901a756c9d1f6d2ed598796"
  },
  "kernelspec": {
   "display_name": "Python 3 (ipykernel)",
   "language": "python",
   "name": "python3"
  },
  "language_info": {
   "codemirror_mode": {
    "name": "ipython",
    "version": 3
   },
   "file_extension": ".py",
   "mimetype": "text/x-python",
   "name": "python",
   "nbconvert_exporter": "python",
   "pygments_lexer": "ipython3",
   "version": "3.9.7"
  }
 },
 "nbformat": 4,
 "nbformat_minor": 2
}
